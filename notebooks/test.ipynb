{
 "cells": [
  {
   "cell_type": "code",
   "execution_count": 3,
   "id": "68843bd2",
   "metadata": {},
   "outputs": [
    {
     "name": "stdout",
     "output_type": "stream",
     "text": [
      "What a great question!\n",
      "\n",
      "The sky appears blue because of a phenomenon called Rayleigh scattering, which is named after the British physicist Lord Rayleigh who first described it in the late 19th century.\n",
      "\n",
      "Here's what happens:\n",
      "\n",
      "1. When sunlight enters Earth's atmosphere, it encounters tiny molecules of gases such as nitrogen (N2) and oxygen (O2). These molecules are much smaller than the wavelength of light.\n",
      "2. The shorter wavelengths of light, like violet and blue, are scattered in all directions by these small molecules more effectively than the longer wavelengths, like red and orange.\n",
      "3. This scattering effect is stronger for shorter wavelengths because the molecules can deflect them more easily. Think of it like a game of pool: smaller balls (like violet and blue light) bounce off the molecular \"cushions\" more often than larger balls (like red and orange light).\n",
      "4. As a result, the scattered blue light reaches our eyes from all directions, giving the sky its blue appearance.\n",
      "5. The color we see is actually a combination of the direct sunlight and the scattered blue light. If you're looking directly at the sun, you'll see its actual color, which is white (because it's all wavelengths combined). But when you look away from the sun, the scattered blue light dominates, making the sky appear blue.\n",
      "\n",
      "Why not red? Well, if the scattering were equal for all wavelengths, the sky would appear more neutral or gray. The reason we don't see a reddish sky is that the longer wavelengths of light (like red and orange) are affected by the atmosphere in other ways, such as absorption and reflection off particles like dust and water vapor. These effects cancel out some of the scattered blue light, making the overall appearance bluer.\n",
      "\n",
      "So, there you have it! The blue color of the sky is a result of the scattering of sunlight by tiny molecules in our atmosphere.\n",
      "\n",
      "(P.S. You might've noticed that the sky can appear more orange or reddish during sunrise and sunset. That's because the sun's rays have to travel longer distances through the atmosphere at those times, which scatters the shorter wavelengths even more, making the light appear more orange or red.)\n"
     ]
    }
   ],
   "source": [
    "import ollama\n",
    "\n",
    "# Use the generate function for a one-off prompt\n",
    "result = ollama.generate(model='llama3', prompt='Why is the sky blue?')\n",
    "print(result['response'])"
   ]
  }
 ],
 "metadata": {
  "kernelspec": {
   "display_name": ".venv",
   "language": "python",
   "name": "python3"
  },
  "language_info": {
   "codemirror_mode": {
    "name": "ipython",
    "version": 3
   },
   "file_extension": ".py",
   "mimetype": "text/x-python",
   "name": "python",
   "nbconvert_exporter": "python",
   "pygments_lexer": "ipython3",
   "version": "3.12.11"
  }
 },
 "nbformat": 4,
 "nbformat_minor": 5
}
